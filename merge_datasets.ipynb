{
 "cells": [
  {
   "cell_type": "code",
   "execution_count": 1,
   "id": "0b9d8a32",
   "metadata": {},
   "outputs": [],
   "source": [
    "import pandas as pd"
   ]
  },
  {
   "cell_type": "code",
   "execution_count": 2,
   "id": "569018a3",
   "metadata": {},
   "outputs": [],
   "source": [
    "#Reading all the csv to sync and merge\n",
    "flight = pd.read_csv(\"C:/Users/sonal/flight-delay-prediction/dataset/flight_cleaned.csv\")\n",
    "weather = pd.read_csv(\"C:/Users/sonal/flight-delay-prediction/dataset/weather_cleaned.csv\")"
   ]
  },
  {
   "cell_type": "code",
   "execution_count": 3,
   "id": "a31593a4",
   "metadata": {},
   "outputs": [
    {
     "name": "stdout",
     "output_type": "stream",
     "text": [
      "<class 'pandas.core.frame.DataFrame'>\n",
      "RangeIndex: 410925 entries, 0 to 410924\n",
      "Data columns (total 18 columns):\n",
      " #   Column                 Non-Null Count   Dtype \n",
      "---  ------                 --------------   ----- \n",
      " 0   carrier                410925 non-null  object\n",
      " 1   flight_date            410925 non-null  object\n",
      " 2   flight_num             410925 non-null  int64 \n",
      " 3   dest                   410925 non-null  object\n",
      " 4   scheduled_dep          410925 non-null  object\n",
      " 5   actual_dep             410925 non-null  object\n",
      " 6   scheduled_elapsed      410925 non-null  int64 \n",
      " 7   actual_elapsed         410925 non-null  int64 \n",
      " 8   dep_delay              410925 non-null  int64 \n",
      " 9   wheels_off_time        410925 non-null  object\n",
      " 10  taxi_out_time          410925 non-null  int64 \n",
      " 11  delay_carrier          410925 non-null  int64 \n",
      " 12  delay_weather          410925 non-null  int64 \n",
      " 13  delay_aviation_system  410925 non-null  int64 \n",
      " 14  delay_security         410925 non-null  int64 \n",
      " 15  delay_late_aircraft    410925 non-null  int64 \n",
      " 16  combined_datetime      410925 non-null  object\n",
      " 17  rounded_datetime       410925 non-null  object\n",
      "dtypes: int64(10), object(8)\n",
      "memory usage: 56.4+ MB\n"
     ]
    }
   ],
   "source": [
    "flight.info()"
   ]
  },
  {
   "cell_type": "code",
   "execution_count": 4,
   "id": "66f8d4cf",
   "metadata": {},
   "outputs": [
    {
     "name": "stdout",
     "output_type": "stream",
     "text": [
      "<class 'pandas.core.frame.DataFrame'>\n",
      "RangeIndex: 79632 entries, 0 to 79631\n",
      "Data columns (total 18 columns):\n",
      " #   Column               Non-Null Count  Dtype  \n",
      "---  ------               --------------  -----  \n",
      " 0   time                 79632 non-null  object \n",
      " 1   temperature          79632 non-null  float64\n",
      " 2   humidity             79632 non-null  int64  \n",
      " 3   dew_point            79632 non-null  float64\n",
      " 4   precipitation        79632 non-null  float64\n",
      " 5   rain                 79632 non-null  float64\n",
      " 6   snowfall             79632 non-null  float64\n",
      " 7   weather_code         79632 non-null  int64  \n",
      " 8   pressure             79632 non-null  float64\n",
      " 9   surface_pressure     79632 non-null  float64\n",
      " 10  cloud_cover          79632 non-null  int64  \n",
      " 11  wind_speed_10m       79632 non-null  float64\n",
      " 12  wind_speed_100m      79632 non-null  float64\n",
      " 13  wind_direction_10m   79632 non-null  int64  \n",
      " 14  wind_direction_100m  79632 non-null  int64  \n",
      " 15  wind_gusts_10m       79632 non-null  float64\n",
      " 16  is_day               79632 non-null  int64  \n",
      " 17  mod_time             79632 non-null  object \n",
      "dtypes: float64(10), int64(6), object(2)\n",
      "memory usage: 10.9+ MB\n"
     ]
    }
   ],
   "source": [
    "weather.info()"
   ]
  },
  {
   "cell_type": "code",
   "execution_count": 5,
   "id": "a1929f3e",
   "metadata": {},
   "outputs": [],
   "source": [
    "try:\n",
    "    merged_df = pd.merge(flight, weather, \n",
    "                         left_on = [\"rounded_datetime\"],\n",
    "                         right_on = [\"time\"], \n",
    "                         how='left')  #If weather has records for all, count would remain same as flight\n",
    "except Exception as e:\n",
    "    print(f\"Error occurred: {e}\")"
   ]
  },
  {
   "cell_type": "code",
   "execution_count": 6,
   "id": "052a0a73",
   "metadata": {},
   "outputs": [
    {
     "name": "stdout",
     "output_type": "stream",
     "text": [
      "<class 'pandas.core.frame.DataFrame'>\n",
      "Int64Index: 410925 entries, 0 to 410924\n",
      "Data columns (total 36 columns):\n",
      " #   Column                 Non-Null Count   Dtype  \n",
      "---  ------                 --------------   -----  \n",
      " 0   carrier                410925 non-null  object \n",
      " 1   flight_date            410925 non-null  object \n",
      " 2   flight_num             410925 non-null  int64  \n",
      " 3   dest                   410925 non-null  object \n",
      " 4   scheduled_dep          410925 non-null  object \n",
      " 5   actual_dep             410925 non-null  object \n",
      " 6   scheduled_elapsed      410925 non-null  int64  \n",
      " 7   actual_elapsed         410925 non-null  int64  \n",
      " 8   dep_delay              410925 non-null  int64  \n",
      " 9   wheels_off_time        410925 non-null  object \n",
      " 10  taxi_out_time          410925 non-null  int64  \n",
      " 11  delay_carrier          410925 non-null  int64  \n",
      " 12  delay_weather          410925 non-null  int64  \n",
      " 13  delay_aviation_system  410925 non-null  int64  \n",
      " 14  delay_security         410925 non-null  int64  \n",
      " 15  delay_late_aircraft    410925 non-null  int64  \n",
      " 16  combined_datetime      410925 non-null  object \n",
      " 17  rounded_datetime       410925 non-null  object \n",
      " 18  time                   410925 non-null  object \n",
      " 19  temperature            410925 non-null  float64\n",
      " 20  humidity               410925 non-null  int64  \n",
      " 21  dew_point              410925 non-null  float64\n",
      " 22  precipitation          410925 non-null  float64\n",
      " 23  rain                   410925 non-null  float64\n",
      " 24  snowfall               410925 non-null  float64\n",
      " 25  weather_code           410925 non-null  int64  \n",
      " 26  pressure               410925 non-null  float64\n",
      " 27  surface_pressure       410925 non-null  float64\n",
      " 28  cloud_cover            410925 non-null  int64  \n",
      " 29  wind_speed_10m         410925 non-null  float64\n",
      " 30  wind_speed_100m        410925 non-null  float64\n",
      " 31  wind_direction_10m     410925 non-null  int64  \n",
      " 32  wind_direction_100m    410925 non-null  int64  \n",
      " 33  wind_gusts_10m         410925 non-null  float64\n",
      " 34  is_day                 410925 non-null  int64  \n",
      " 35  mod_time               410925 non-null  object \n",
      "dtypes: float64(10), int64(16), object(10)\n",
      "memory usage: 116.0+ MB\n"
     ]
    }
   ],
   "source": [
    "merged_df.info()"
   ]
  },
  {
   "cell_type": "markdown",
   "id": "9edb7b42",
   "metadata": {},
   "source": [
    "#Final check before saving the dataframe\n",
    "merged_df.info()"
   ]
  },
  {
   "cell_type": "code",
   "execution_count": 7,
   "id": "abd503b6",
   "metadata": {},
   "outputs": [],
   "source": [
    "#Drop duplicate date columns before creating final csv\n",
    "merged_df = merged_df.drop(['rounded_datetime','time','mod_time'],axis = 1)"
   ]
  },
  {
   "cell_type": "code",
   "execution_count": 8,
   "id": "bef08b37",
   "metadata": {},
   "outputs": [],
   "source": [
    "merged_df.to_csv(\"C:/Users/sonal/flight-delay-prediction/dataset/flight_delay_analysis.csv\",index=False)"
   ]
  }
 ],
 "metadata": {
  "kernelspec": {
   "display_name": "Python 3 (ipykernel)",
   "language": "python",
   "name": "python3"
  },
  "language_info": {
   "codemirror_mode": {
    "name": "ipython",
    "version": 3
   },
   "file_extension": ".py",
   "mimetype": "text/x-python",
   "name": "python",
   "nbconvert_exporter": "python",
   "pygments_lexer": "ipython3",
   "version": "3.10.9"
  }
 },
 "nbformat": 4,
 "nbformat_minor": 5
}
